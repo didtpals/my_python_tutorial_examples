{
 "cells": [
  {
   "cell_type": "code",
   "execution_count": 26,
   "id": "84b4bf44",
   "metadata": {
    "scrolled": true
   },
   "outputs": [
    {
     "data": {
      "text/plain": [
       "array([[False, False, False, False],\n",
       "       [False, False, False, False],\n",
       "       [False, False, False,  True],\n",
       "       [ True,  True,  True,  True]])"
      ]
     },
     "execution_count": 26,
     "metadata": {},
     "output_type": "execute_result"
    }
   ],
   "source": [
    "import numpy as np\n",
    "\n",
    "array1 = np.arange(16) . reshape(4,4)\n",
    "\n",
    "reault_array = array1 > 10\n",
    "\n",
    "reault_array"
   ]
  },
  {
   "cell_type": "code",
   "execution_count": null,
   "id": "fc287842",
   "metadata": {},
   "outputs": [],
   "source": []
  }
 ],
 "metadata": {
  "kernelspec": {
   "display_name": "Python 3",
   "language": "python",
   "name": "python3"
  },
  "language_info": {
   "codemirror_mode": {
    "name": "ipython",
    "version": 3
   },
   "file_extension": ".py",
   "mimetype": "text/x-python",
   "name": "python",
   "nbconvert_exporter": "python",
   "pygments_lexer": "ipython3",
   "version": "3.11.1 (tags/v3.11.1:a7a450f, Dec  6 2022, 19:58:39) [MSC v.1934 64 bit (AMD64)]"
  },
  "vscode": {
   "interpreter": {
    "hash": "f6182b398ebe141899e49f11857f1f0a6edc65892b5c7576372de9d046ac0f75"
   }
  }
 },
 "nbformat": 4,
 "nbformat_minor": 5
}
