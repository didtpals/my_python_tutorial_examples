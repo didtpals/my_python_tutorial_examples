{
 "cells": [
  {
   "cell_type": "code",
   "execution_count": null,
   "id": "dc7fbc85",
   "metadata": {},
   "outputs": [],
   "source": [
    "import threading\n",
    "import time"
   ]
  },
  {
   "cell_type": "code",
   "execution_count": null,
   "id": "6187ad67",
   "metadata": {},
   "outputs": [],
   "source": [
    "class JSS:\n",
    "    def __init__(self):\n",
    "        self.InitName()\n",
    "        \n",
    "        self.InitAge()\n",
    "        \n",
    "        self.InitAddress()\n",
    "       \n",
    "    \n",
    "        print(self.name)\n",
    "        \n",
    "    # method     \n",
    "    def InitName(self):\n",
    "        self.name = \"name1\"\n",
    "        \n",
    "    def InitAge(self):\n",
    "        self.age = \"age1\"\n",
    "        \n",
    "    def InitAddress(self):\n",
    "        self.address = \"address1\"\n",
    "        \n",
    "\n",
    "bb = threading.Thread(target = JSS)        \n",
    "        \n",
    "        \n",
    "        \n",
    "        \n",
    "\n",
    "bb.start()\n",
    "\n",
    "\n"
   ]
  },
  {
   "cell_type": "markdown",
   "id": "9b383be1",
   "metadata": {},
   "source": []
  },
  {
   "cell_type": "code",
   "execution_count": 3,
   "id": "35b16639",
   "metadata": {},
   "outputs": [
    {
     "name": "stdout",
     "output_type": "stream",
     "text": [
      "Hello\n",
      "\n",
      "Bye\n",
      "\n",
      "Bye\n",
      "Hello\n",
      "\n",
      "\n",
      "Hello\n",
      "\n",
      "Bye\n",
      "\n",
      "Bye\n",
      "\n",
      "Hello\n",
      "\n",
      "Bye\n",
      "Hello\n",
      "\n",
      "\n"
     ]
    }
   ],
   "source": [
    "import threading\n",
    "import time \n",
    "\n",
    "class threading_class(threading.Thread): # threading.Thread를 상속받는 class를 만들어서 run하여 객체를 생성\n",
    "    \n",
    "    def run(self) :                      # threading_class class의 run method가 실행\n",
    "        \n",
    "        for _ in range (5) :             # 변수를 지정하지 않고 단순 반복을 하고 싶을 때는 _언더바를 사용\n",
    "            \n",
    "            print(threading.currentThread(). # threading.currentThread를 사용해서 현재 실행 중인 thread를 나타냄\n",
    "                  getName() + \"\\n\")          # getName를 사용해서 thread의 이름을 가져옴\n",
    "            time.sleep(1.5)\n",
    "\n",
    "a = threading_class(name = \"Hello\")\n",
    "b = threading_class(name = \"Bye\")\n",
    "\n",
    "a.start()\n",
    "b.start()"
   ]
  },
  {
   "cell_type": "code",
   "execution_count": null,
   "id": "5eb31c6a",
   "metadata": {},
   "outputs": [],
   "source": []
  },
  {
   "cell_type": "code",
   "execution_count": null,
   "id": "a4194b1e",
   "metadata": {},
   "outputs": [],
   "source": []
  }
 ],
 "metadata": {
  "kernelspec": {
   "display_name": "Python 3 (ipykernel)",
   "language": "python",
   "name": "python3"
  },
  "language_info": {
   "codemirror_mode": {
    "name": "ipython",
    "version": 3
   },
   "file_extension": ".py",
   "mimetype": "text/x-python",
   "name": "python",
   "nbconvert_exporter": "python",
   "pygments_lexer": "ipython3",
   "version": "3.9.13"
  }
 },
 "nbformat": 4,
 "nbformat_minor": 5
}
