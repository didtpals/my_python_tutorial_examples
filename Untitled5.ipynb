{
 "cells": [
  {
   "cell_type": "code",
   "execution_count": null,
   "id": "16b6a247",
   "metadata": {},
   "outputs": [],
   "source": [
    "import schedule"
   ]
  },
  {
   "cell_type": "code",
   "execution_count": null,
   "id": "f2d237c0",
   "metadata": {},
   "outputs": [],
   "source": [
    "def job():                         # 커스텀 함수를 이용한 프린트 출력\n",
    "    print(\"발표중...\")\n",
    " \n",
    "\n",
    "schedule.every(10).seconds.do(job) # 10초에 한번씩 실행\n",
    "\n",
    "schedule.every(1).minutes.do(job) # 분당 한번씩 실행\n",
    "\n",
    "schedule.every().hour.do(job)    # 시간당 실행\n",
    "\n",
    "schedule.every().day.at(\"14:30\").do(job) # 매일 \"2:30\"에 실행\n",
    "\n",
    "schedule.every().monday.do(job) # 매주 월요일에 실행\n",
    "\n",
    "schedule.every().friday.at(\"14:30\").do(job) # 매주 수요일 \"2:30\"에 실행\n",
    " \n",
    "\n",
    "while True:                    # 반복문을 사용해서 schedule을 실행반복\n",
    "    \n",
    "    \n"
   ]
  },
  {
   "cell_type": "code",
   "execution_count": null,
   "id": "230062dc",
   "metadata": {},
   "outputs": [],
   "source": []
  },
  {
   "cell_type": "code",
   "execution_count": null,
   "id": "ab87e920",
   "metadata": {},
   "outputs": [],
   "source": []
  }
 ],
 "metadata": {
  "kernelspec": {
   "display_name": "Python 3 (ipykernel)",
   "language": "python",
   "name": "python3"
  },
  "language_info": {
   "codemirror_mode": {
    "name": "ipython",
    "version": 3
   },
   "file_extension": ".py",
   "mimetype": "text/x-python",
   "name": "python",
   "nbconvert_exporter": "python",
   "pygments_lexer": "ipython3",
   "version": "3.9.13"
  }
 },
 "nbformat": 4,
 "nbformat_minor": 5
}
